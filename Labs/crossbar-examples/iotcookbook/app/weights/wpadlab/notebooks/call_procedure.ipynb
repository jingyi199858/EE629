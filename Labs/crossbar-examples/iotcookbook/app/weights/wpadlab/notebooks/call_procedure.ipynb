{
 "metadata": {
  "name": ""
 },
 "nbformat": 3,
 "nbformat_minor": 0,
 "worksheets": [
  {
   "cells": [
    {
     "cell_type": "code",
     "collapsed": false,
     "input": [
      "rpc_url = \"https://demo.crossbar.io/call\"\n",
      "\n",
      "import requests, json\n",
      "\n",
      "def call(proc, *args, **kwargs):\n",
      "    payload = {\n",
      "        \"procedure\": proc,\n",
      "        \"args\": args,\n",
      "        \"kwargs\": kwargs\n",
      "    }\n",
      "    r = requests.post(rpc_url, data=json.dumps(payload),\n",
      "                      headers={'content-type': 'application/json'})\n",
      "    res = r.json()\n",
      "    return res['args'][0]\n",
      "    "
     ],
     "language": "python",
     "metadata": {},
     "outputs": [],
     "prompt_number": 1
    },
    {
     "cell_type": "code",
     "collapsed": false,
     "input": [
      "call(\"io.crossbar.demo.vote.get\")"
     ],
     "language": "python",
     "metadata": {},
     "outputs": [
      {
       "metadata": {},
       "output_type": "pyout",
       "prompt_number": 2,
       "text": [
        "[{u'subject': u'Banana', u'votes': 8},\n",
        " {u'subject': u'Chocolate', u'votes': 6},\n",
        " {u'subject': u'Lemon', u'votes': 3}]"
       ]
      }
     ],
     "prompt_number": 2
    },
    {
     "cell_type": "code",
     "collapsed": false,
     "input": [],
     "language": "python",
     "metadata": {},
     "outputs": []
    }
   ],
   "metadata": {}
  }
 ]
}