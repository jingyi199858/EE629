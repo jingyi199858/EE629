{
 "cells": [
  {
   "cell_type": "code",
   "execution_count": 5,
   "metadata": {},
   "outputs": [
    {
     "name": "stdout",
     "output_type": "stream",
     "text": [
      "96 data encryption key offers so far so far\n"
     ]
    }
   ],
   "source": [
    "import zlmdb\n",
    "import cfxdb\n",
    "\n",
    "db = zlmdb.Database('../xbrdb-transactions', maxsize=2**30, readonly=True)\n",
    "xbr = cfxdb.xbr.Schema.attach(db)\n",
    "\n",
    "\n",
    "with db.begin() as txn:\n",
    "    cnt = xbr.offers.count(txn)\n",
    "    print('{} data encryption key offers so far so far'.format(cnt))"
   ]
  },
  {
   "cell_type": "code",
   "execution_count": null,
   "metadata": {},
   "outputs": [],
   "source": []
  }
 ],
 "metadata": {
  "kernelspec": {
   "display_name": "Python 3",
   "language": "python",
   "name": "python3"
  },
  "language_info": {
   "codemirror_mode": {
    "name": "ipython",
    "version": 3
   },
   "file_extension": ".py",
   "mimetype": "text/x-python",
   "name": "python",
   "nbconvert_exporter": "python",
   "pygments_lexer": "ipython3",
   "version": "3.5.3"
  }
 },
 "nbformat": 4,
 "nbformat_minor": 2
}
